{
    "nbformat_minor": 1, 
    "cells": [
        {
            "source": "### This notebook will be mainly used for the capstone project!", 
            "cell_type": "markdown", 
            "metadata": {
                "collapsed": true
            }
        }, 
        {
            "source": "import pandas as pd\nimport numpy as np\nprint(\"Hello Capstone Project Course!\")", 
            "cell_type": "code", 
            "metadata": {}, 
            "outputs": [
                {
                    "output_type": "stream", 
                    "name": "stdout", 
                    "text": "Hello Capstone Project Course!\n"
                }
            ], 
            "execution_count": 2
        }, 
        {
            "source": "## Capstone Project\n### Introduction / Business Problem - Possible Upgrade to Canadian 911 Services in Toronto\n\n\nUnder provincial jurisdinction, the operation of the 911 servicies is practiced by the hands of local police, paramedics or firefighting authorities. The internationally accepted standard for answering 911 calls suggests 90% of all calls should be picked up within 10 seconds, or 95% calls should be answered within 20 seconds even during the busiest time of day. There has been many attempts to solve a common, yet the most important, problem of the 911 service in Toronto. When there is a large volume of calls are coming at once, there is a significant 911 wait times at the communication centre (maximum  wait time up to 5 minutes), leading many dalays in police, paramedic, and firefigther dispatch. It has been reported that nearly 1 in 5 calls to 911 in York Region so far in 2017 were unintentional. \n\nThis project will analyze information based on what is sent to the Ontario Fire Marshal relating to all incidents to which Toronto Fire responds. The type and frequency of all incidents will be categorized by the regions in and around the city of Toronto. The conclusion may help determining the number of hiring more call operators or providing ideas which regions the communication centre or the 911 control headquater should put more focus in order to re", 
            "cell_type": "markdown", 
            "metadata": {}
        }
    ], 
    "metadata": {
        "kernelspec": {
            "display_name": "Python 3.5", 
            "name": "python3", 
            "language": "python"
        }, 
        "language_info": {
            "mimetype": "text/x-python", 
            "nbconvert_exporter": "python", 
            "version": "3.5.5", 
            "name": "python", 
            "file_extension": ".py", 
            "pygments_lexer": "ipython3", 
            "codemirror_mode": {
                "version": 3, 
                "name": "ipython"
            }
        }
    }, 
    "nbformat": 4
}